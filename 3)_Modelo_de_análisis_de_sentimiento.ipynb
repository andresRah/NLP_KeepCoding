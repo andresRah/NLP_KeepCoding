{
  "nbformat": 4,
  "nbformat_minor": 0,
  "metadata": {
    "colab": {
      "provenance": [],
      "authorship_tag": "ABX9TyMuTNrdSS6H1W9dS2G4rNEh",
      "include_colab_link": true
    },
    "kernelspec": {
      "name": "python3",
      "display_name": "Python 3"
    },
    "language_info": {
      "name": "python"
    }
  },
  "cells": [
    {
      "cell_type": "markdown",
      "metadata": {
        "id": "view-in-github",
        "colab_type": "text"
      },
      "source": [
        "<a href=\"https://colab.research.google.com/github/andresRah/NLP_KeepCoding/blob/main/3)_Modelo_de_an%C3%A1lisis_de_sentimiento.ipynb\" target=\"_parent\"><img src=\"https://colab.research.google.com/assets/colab-badge.svg\" alt=\"Open In Colab\"/></a>"
      ]
    },
    {
      "cell_type": "markdown",
      "source": [
        "### Práctica NLP\n",
        "**Punto #3**\n",
        "\n",
        "El alumno, con los datos preprocesados del ejercicio 2, deberá entrenar dos modelos distintos de los que, tras comparar sus resultados, elegirá uno como el mejor. Para tomar esta decisión se basará en las métricas que calcule (precision, recall, f1-score, ...). El enfoque será el de un problema de clasificación binaria supervisada.\n",
        "\n",
        "Los modelos deberán tomar a su entrada los datos codificados con un modelo de bolsa de palabras (bag-of-words). Se deberán justificar los parámetros del vectorizer, así como tener en cuenta aspectos como el balanceo de clases.\n",
        "\n",
        "**La elección de los modelos es libre.**"
      ],
      "metadata": {
        "id": "bHtY5Q6X31Y3"
      }
    },
    {
      "cell_type": "code",
      "source": [
        "# Importar librerias necesarias\n",
        "import pandas as pd\n",
        "import numpy as np\n",
        "from sklearn.model_selection import train_test_split\n",
        "from sklearn.feature_extraction.text import CountVectorizer\n",
        "from sklearn.ensemble import RandomForestClassifier\n",
        "from sklearn.metrics import classification_report, accuracy_score\n",
        "from keras.preprocessing.sequence import pad_sequences\n",
        "from keras.preprocessing.text import Tokenizer\n",
        "from keras.models import Sequential\n",
        "from keras.layers import Embedding, LSTM, Dense, SpatialDropout1D\n",
        "from keras.optimizers import Adam"
      ],
      "metadata": {
        "id": "QcAaKXiy5MaO"
      },
      "execution_count": 1,
      "outputs": []
    },
    {
      "cell_type": "code",
      "source": [
        "# Cargar el dataset preprocesado\n",
        "file_path_preprocessed = 'corpus_two.csv'\n",
        "df_preprocessed = pd.read_csv(file_path_preprocessed)"
      ],
      "metadata": {
        "id": "O9ubAGXO6Hba"
      },
      "execution_count": 3,
      "outputs": []
    },
    {
      "cell_type": "code",
      "source": [
        "df_preprocessed.head(10)"
      ],
      "metadata": {
        "colab": {
          "base_uri": "https://localhost:8080/",
          "height": 363
        },
        "id": "h4syJorm6T0w",
        "outputId": "75a6e347-467f-40cb-9a0b-a21db88c6fdb"
      },
      "execution_count": 4,
      "outputs": [
        {
          "output_type": "execute_result",
          "data": {
            "text/plain": [
              "                                          reviewText  overall  trend\n",
              "0  purchased trilogy hoping two cat age would int...        3      0\n",
              "1  usually one cat watching tv staying trouble dv...        5      1\n",
              "2  bought triliogy tested dvd appears volume well...        4      1\n",
              "3  female kitty could care le videosbut care le a...        4      1\n",
              "4  gotten volume two would given five star since ...        3      0\n",
              "5  rottie food allergy poultry beef dairy ive dif...        5      1\n",
              "6  puppy love stuff tail start wagging soon ask h...        5      1\n",
              "7  toy poodle love stuff let sort brush teeth hop...        4      1\n",
              "8  work great dog doesnt hate taste gum health im...        5      1\n",
              "9  yes princess enjoying taste showing getting be...        5      1"
            ],
            "text/html": [
              "\n",
              "  <div id=\"df-9586bedb-32ae-4126-b691-5c949aeadd47\" class=\"colab-df-container\">\n",
              "    <div>\n",
              "<style scoped>\n",
              "    .dataframe tbody tr th:only-of-type {\n",
              "        vertical-align: middle;\n",
              "    }\n",
              "\n",
              "    .dataframe tbody tr th {\n",
              "        vertical-align: top;\n",
              "    }\n",
              "\n",
              "    .dataframe thead th {\n",
              "        text-align: right;\n",
              "    }\n",
              "</style>\n",
              "<table border=\"1\" class=\"dataframe\">\n",
              "  <thead>\n",
              "    <tr style=\"text-align: right;\">\n",
              "      <th></th>\n",
              "      <th>reviewText</th>\n",
              "      <th>overall</th>\n",
              "      <th>trend</th>\n",
              "    </tr>\n",
              "  </thead>\n",
              "  <tbody>\n",
              "    <tr>\n",
              "      <th>0</th>\n",
              "      <td>purchased trilogy hoping two cat age would int...</td>\n",
              "      <td>3</td>\n",
              "      <td>0</td>\n",
              "    </tr>\n",
              "    <tr>\n",
              "      <th>1</th>\n",
              "      <td>usually one cat watching tv staying trouble dv...</td>\n",
              "      <td>5</td>\n",
              "      <td>1</td>\n",
              "    </tr>\n",
              "    <tr>\n",
              "      <th>2</th>\n",
              "      <td>bought triliogy tested dvd appears volume well...</td>\n",
              "      <td>4</td>\n",
              "      <td>1</td>\n",
              "    </tr>\n",
              "    <tr>\n",
              "      <th>3</th>\n",
              "      <td>female kitty could care le videosbut care le a...</td>\n",
              "      <td>4</td>\n",
              "      <td>1</td>\n",
              "    </tr>\n",
              "    <tr>\n",
              "      <th>4</th>\n",
              "      <td>gotten volume two would given five star since ...</td>\n",
              "      <td>3</td>\n",
              "      <td>0</td>\n",
              "    </tr>\n",
              "    <tr>\n",
              "      <th>5</th>\n",
              "      <td>rottie food allergy poultry beef dairy ive dif...</td>\n",
              "      <td>5</td>\n",
              "      <td>1</td>\n",
              "    </tr>\n",
              "    <tr>\n",
              "      <th>6</th>\n",
              "      <td>puppy love stuff tail start wagging soon ask h...</td>\n",
              "      <td>5</td>\n",
              "      <td>1</td>\n",
              "    </tr>\n",
              "    <tr>\n",
              "      <th>7</th>\n",
              "      <td>toy poodle love stuff let sort brush teeth hop...</td>\n",
              "      <td>4</td>\n",
              "      <td>1</td>\n",
              "    </tr>\n",
              "    <tr>\n",
              "      <th>8</th>\n",
              "      <td>work great dog doesnt hate taste gum health im...</td>\n",
              "      <td>5</td>\n",
              "      <td>1</td>\n",
              "    </tr>\n",
              "    <tr>\n",
              "      <th>9</th>\n",
              "      <td>yes princess enjoying taste showing getting be...</td>\n",
              "      <td>5</td>\n",
              "      <td>1</td>\n",
              "    </tr>\n",
              "  </tbody>\n",
              "</table>\n",
              "</div>\n",
              "    <div class=\"colab-df-buttons\">\n",
              "\n",
              "  <div class=\"colab-df-container\">\n",
              "    <button class=\"colab-df-convert\" onclick=\"convertToInteractive('df-9586bedb-32ae-4126-b691-5c949aeadd47')\"\n",
              "            title=\"Convert this dataframe to an interactive table.\"\n",
              "            style=\"display:none;\">\n",
              "\n",
              "  <svg xmlns=\"http://www.w3.org/2000/svg\" height=\"24px\" viewBox=\"0 -960 960 960\">\n",
              "    <path d=\"M120-120v-720h720v720H120Zm60-500h600v-160H180v160Zm220 220h160v-160H400v160Zm0 220h160v-160H400v160ZM180-400h160v-160H180v160Zm440 0h160v-160H620v160ZM180-180h160v-160H180v160Zm440 0h160v-160H620v160Z\"/>\n",
              "  </svg>\n",
              "    </button>\n",
              "\n",
              "  <style>\n",
              "    .colab-df-container {\n",
              "      display:flex;\n",
              "      gap: 12px;\n",
              "    }\n",
              "\n",
              "    .colab-df-convert {\n",
              "      background-color: #E8F0FE;\n",
              "      border: none;\n",
              "      border-radius: 50%;\n",
              "      cursor: pointer;\n",
              "      display: none;\n",
              "      fill: #1967D2;\n",
              "      height: 32px;\n",
              "      padding: 0 0 0 0;\n",
              "      width: 32px;\n",
              "    }\n",
              "\n",
              "    .colab-df-convert:hover {\n",
              "      background-color: #E2EBFA;\n",
              "      box-shadow: 0px 1px 2px rgba(60, 64, 67, 0.3), 0px 1px 3px 1px rgba(60, 64, 67, 0.15);\n",
              "      fill: #174EA6;\n",
              "    }\n",
              "\n",
              "    .colab-df-buttons div {\n",
              "      margin-bottom: 4px;\n",
              "    }\n",
              "\n",
              "    [theme=dark] .colab-df-convert {\n",
              "      background-color: #3B4455;\n",
              "      fill: #D2E3FC;\n",
              "    }\n",
              "\n",
              "    [theme=dark] .colab-df-convert:hover {\n",
              "      background-color: #434B5C;\n",
              "      box-shadow: 0px 1px 3px 1px rgba(0, 0, 0, 0.15);\n",
              "      filter: drop-shadow(0px 1px 2px rgba(0, 0, 0, 0.3));\n",
              "      fill: #FFFFFF;\n",
              "    }\n",
              "  </style>\n",
              "\n",
              "    <script>\n",
              "      const buttonEl =\n",
              "        document.querySelector('#df-9586bedb-32ae-4126-b691-5c949aeadd47 button.colab-df-convert');\n",
              "      buttonEl.style.display =\n",
              "        google.colab.kernel.accessAllowed ? 'block' : 'none';\n",
              "\n",
              "      async function convertToInteractive(key) {\n",
              "        const element = document.querySelector('#df-9586bedb-32ae-4126-b691-5c949aeadd47');\n",
              "        const dataTable =\n",
              "          await google.colab.kernel.invokeFunction('convertToInteractive',\n",
              "                                                    [key], {});\n",
              "        if (!dataTable) return;\n",
              "\n",
              "        const docLinkHtml = 'Like what you see? Visit the ' +\n",
              "          '<a target=\"_blank\" href=https://colab.research.google.com/notebooks/data_table.ipynb>data table notebook</a>'\n",
              "          + ' to learn more about interactive tables.';\n",
              "        element.innerHTML = '';\n",
              "        dataTable['output_type'] = 'display_data';\n",
              "        await google.colab.output.renderOutput(dataTable, element);\n",
              "        const docLink = document.createElement('div');\n",
              "        docLink.innerHTML = docLinkHtml;\n",
              "        element.appendChild(docLink);\n",
              "      }\n",
              "    </script>\n",
              "  </div>\n",
              "\n",
              "\n",
              "<div id=\"df-3a2136a5-032d-4ac2-82bf-412b0582ab89\">\n",
              "  <button class=\"colab-df-quickchart\" onclick=\"quickchart('df-3a2136a5-032d-4ac2-82bf-412b0582ab89')\"\n",
              "            title=\"Suggest charts\"\n",
              "            style=\"display:none;\">\n",
              "\n",
              "<svg xmlns=\"http://www.w3.org/2000/svg\" height=\"24px\"viewBox=\"0 0 24 24\"\n",
              "     width=\"24px\">\n",
              "    <g>\n",
              "        <path d=\"M19 3H5c-1.1 0-2 .9-2 2v14c0 1.1.9 2 2 2h14c1.1 0 2-.9 2-2V5c0-1.1-.9-2-2-2zM9 17H7v-7h2v7zm4 0h-2V7h2v10zm4 0h-2v-4h2v4z\"/>\n",
              "    </g>\n",
              "</svg>\n",
              "  </button>\n",
              "\n",
              "<style>\n",
              "  .colab-df-quickchart {\n",
              "      --bg-color: #E8F0FE;\n",
              "      --fill-color: #1967D2;\n",
              "      --hover-bg-color: #E2EBFA;\n",
              "      --hover-fill-color: #174EA6;\n",
              "      --disabled-fill-color: #AAA;\n",
              "      --disabled-bg-color: #DDD;\n",
              "  }\n",
              "\n",
              "  [theme=dark] .colab-df-quickchart {\n",
              "      --bg-color: #3B4455;\n",
              "      --fill-color: #D2E3FC;\n",
              "      --hover-bg-color: #434B5C;\n",
              "      --hover-fill-color: #FFFFFF;\n",
              "      --disabled-bg-color: #3B4455;\n",
              "      --disabled-fill-color: #666;\n",
              "  }\n",
              "\n",
              "  .colab-df-quickchart {\n",
              "    background-color: var(--bg-color);\n",
              "    border: none;\n",
              "    border-radius: 50%;\n",
              "    cursor: pointer;\n",
              "    display: none;\n",
              "    fill: var(--fill-color);\n",
              "    height: 32px;\n",
              "    padding: 0;\n",
              "    width: 32px;\n",
              "  }\n",
              "\n",
              "  .colab-df-quickchart:hover {\n",
              "    background-color: var(--hover-bg-color);\n",
              "    box-shadow: 0 1px 2px rgba(60, 64, 67, 0.3), 0 1px 3px 1px rgba(60, 64, 67, 0.15);\n",
              "    fill: var(--button-hover-fill-color);\n",
              "  }\n",
              "\n",
              "  .colab-df-quickchart-complete:disabled,\n",
              "  .colab-df-quickchart-complete:disabled:hover {\n",
              "    background-color: var(--disabled-bg-color);\n",
              "    fill: var(--disabled-fill-color);\n",
              "    box-shadow: none;\n",
              "  }\n",
              "\n",
              "  .colab-df-spinner {\n",
              "    border: 2px solid var(--fill-color);\n",
              "    border-color: transparent;\n",
              "    border-bottom-color: var(--fill-color);\n",
              "    animation:\n",
              "      spin 1s steps(1) infinite;\n",
              "  }\n",
              "\n",
              "  @keyframes spin {\n",
              "    0% {\n",
              "      border-color: transparent;\n",
              "      border-bottom-color: var(--fill-color);\n",
              "      border-left-color: var(--fill-color);\n",
              "    }\n",
              "    20% {\n",
              "      border-color: transparent;\n",
              "      border-left-color: var(--fill-color);\n",
              "      border-top-color: var(--fill-color);\n",
              "    }\n",
              "    30% {\n",
              "      border-color: transparent;\n",
              "      border-left-color: var(--fill-color);\n",
              "      border-top-color: var(--fill-color);\n",
              "      border-right-color: var(--fill-color);\n",
              "    }\n",
              "    40% {\n",
              "      border-color: transparent;\n",
              "      border-right-color: var(--fill-color);\n",
              "      border-top-color: var(--fill-color);\n",
              "    }\n",
              "    60% {\n",
              "      border-color: transparent;\n",
              "      border-right-color: var(--fill-color);\n",
              "    }\n",
              "    80% {\n",
              "      border-color: transparent;\n",
              "      border-right-color: var(--fill-color);\n",
              "      border-bottom-color: var(--fill-color);\n",
              "    }\n",
              "    90% {\n",
              "      border-color: transparent;\n",
              "      border-bottom-color: var(--fill-color);\n",
              "    }\n",
              "  }\n",
              "</style>\n",
              "\n",
              "  <script>\n",
              "    async function quickchart(key) {\n",
              "      const quickchartButtonEl =\n",
              "        document.querySelector('#' + key + ' button');\n",
              "      quickchartButtonEl.disabled = true;  // To prevent multiple clicks.\n",
              "      quickchartButtonEl.classList.add('colab-df-spinner');\n",
              "      try {\n",
              "        const charts = await google.colab.kernel.invokeFunction(\n",
              "            'suggestCharts', [key], {});\n",
              "      } catch (error) {\n",
              "        console.error('Error during call to suggestCharts:', error);\n",
              "      }\n",
              "      quickchartButtonEl.classList.remove('colab-df-spinner');\n",
              "      quickchartButtonEl.classList.add('colab-df-quickchart-complete');\n",
              "    }\n",
              "    (() => {\n",
              "      let quickchartButtonEl =\n",
              "        document.querySelector('#df-3a2136a5-032d-4ac2-82bf-412b0582ab89 button');\n",
              "      quickchartButtonEl.style.display =\n",
              "        google.colab.kernel.accessAllowed ? 'block' : 'none';\n",
              "    })();\n",
              "  </script>\n",
              "</div>\n",
              "\n",
              "    </div>\n",
              "  </div>\n"
            ],
            "application/vnd.google.colaboratory.intrinsic+json": {
              "type": "dataframe",
              "variable_name": "df_preprocessed",
              "summary": "{\n  \"name\": \"df_preprocessed\",\n  \"rows\": 6998,\n  \"fields\": [\n    {\n      \"column\": \"reviewText\",\n      \"properties\": {\n        \"dtype\": \"string\",\n        \"num_unique_values\": 6995,\n        \"samples\": [\n          \"must clear water medication used recentally least year make sure pickup anything skimmer cant whatever else use substitute product anywhere truly perfect filter never take mineral need life phosphate protiens amonia etc want remove last color changing property aid evaluating full never leach back water evera\",\n          \"dog love treat use train fun nice thing product want piece smaller easy cut without crumbling apart also great deal\",\n          \"worthless pay money get entire water testing kit\"\n        ],\n        \"semantic_type\": \"\",\n        \"description\": \"\"\n      }\n    },\n    {\n      \"column\": \"overall\",\n      \"properties\": {\n        \"dtype\": \"number\",\n        \"std\": 1,\n        \"min\": 1,\n        \"max\": 5,\n        \"num_unique_values\": 5,\n        \"samples\": [\n          5,\n          1,\n          4\n        ],\n        \"semantic_type\": \"\",\n        \"description\": \"\"\n      }\n    },\n    {\n      \"column\": \"trend\",\n      \"properties\": {\n        \"dtype\": \"number\",\n        \"std\": 0,\n        \"min\": 0,\n        \"max\": 1,\n        \"num_unique_values\": 2,\n        \"samples\": [\n          1,\n          0\n        ],\n        \"semantic_type\": \"\",\n        \"description\": \"\"\n      }\n    }\n  ]\n}"
            }
          },
          "metadata": {},
          "execution_count": 4
        }
      ]
    },
    {
      "cell_type": "code",
      "source": [
        "# Renombrar la columna 'trend' a 'sentiment' para mayor claridad\n",
        "df_preprocessed = df_preprocessed.rename(columns={'trend': 'sentiment'})"
      ],
      "metadata": {
        "id": "o0y8EYft81nZ"
      },
      "execution_count": 5,
      "outputs": []
    },
    {
      "cell_type": "code",
      "source": [
        "# Definir las columnas de texto y etiquetas\n",
        "X = df_preprocessed['reviewText']\n",
        "y = df_preprocessed['sentiment']\n",
        "\n",
        "X_train, X_test, y_train, y_test = train_test_split(X, y, test_size=0.25, random_state=42)"
      ],
      "metadata": {
        "id": "bsUKhKpA9yct"
      },
      "execution_count": 7,
      "outputs": []
    },
    {
      "cell_type": "code",
      "source": [
        "# Vectorización usando Bag-of-Words\n",
        "vectorizer = CountVectorizer(max_features=5000)\n",
        "\n",
        "X_train_bow = vectorizer.fit_transform(X_train).toarray()\n",
        "X_test_bow = vectorizer.transform(X_test).toarray()"
      ],
      "metadata": {
        "id": "ddmiqmsn97OA"
      },
      "execution_count": 8,
      "outputs": []
    },
    {
      "cell_type": "code",
      "source": [],
      "metadata": {
        "colab": {
          "base_uri": "https://localhost:8080/"
        },
        "id": "XV8hqIcv9-mL",
        "outputId": "953eafe5-df1d-481a-97ad-e0e2b1df72dd"
      },
      "execution_count": 13,
      "outputs": [
        {
          "output_type": "execute_result",
          "data": {
            "text/plain": [
              "array(['abandoned', 'ability', 'able', ..., 'zupreem', 'zyflamend',\n",
              "       'zyme'], dtype=object)"
            ]
          },
          "metadata": {},
          "execution_count": 13
        }
      ]
    },
    {
      "cell_type": "markdown",
      "source": [
        "## Modelado"
      ],
      "metadata": {
        "id": "4HPyb0xoAGLJ"
      }
    },
    {
      "cell_type": "markdown",
      "source": [
        "### 1. ML Random Forest"
      ],
      "metadata": {
        "id": "DpLCGSbnAJPy"
      }
    },
    {
      "cell_type": "code",
      "source": [
        "# Modelo Random Forest\n",
        "rf_model = RandomForestClassifier(n_estimators=100, random_state=42)\n",
        "rf_model.fit(X_train_bow, y_train)"
      ],
      "metadata": {
        "colab": {
          "base_uri": "https://localhost:8080/",
          "height": 75
        },
        "id": "6auSJhNjAOBN",
        "outputId": "6683e456-2241-4615-d4b1-0da81e6767bf"
      },
      "execution_count": 14,
      "outputs": [
        {
          "output_type": "execute_result",
          "data": {
            "text/plain": [
              "RandomForestClassifier(random_state=42)"
            ],
            "text/html": [
              "<style>#sk-container-id-2 {color: black;background-color: white;}#sk-container-id-2 pre{padding: 0;}#sk-container-id-2 div.sk-toggleable {background-color: white;}#sk-container-id-2 label.sk-toggleable__label {cursor: pointer;display: block;width: 100%;margin-bottom: 0;padding: 0.3em;box-sizing: border-box;text-align: center;}#sk-container-id-2 label.sk-toggleable__label-arrow:before {content: \"▸\";float: left;margin-right: 0.25em;color: #696969;}#sk-container-id-2 label.sk-toggleable__label-arrow:hover:before {color: black;}#sk-container-id-2 div.sk-estimator:hover label.sk-toggleable__label-arrow:before {color: black;}#sk-container-id-2 div.sk-toggleable__content {max-height: 0;max-width: 0;overflow: hidden;text-align: left;background-color: #f0f8ff;}#sk-container-id-2 div.sk-toggleable__content pre {margin: 0.2em;color: black;border-radius: 0.25em;background-color: #f0f8ff;}#sk-container-id-2 input.sk-toggleable__control:checked~div.sk-toggleable__content {max-height: 200px;max-width: 100%;overflow: auto;}#sk-container-id-2 input.sk-toggleable__control:checked~label.sk-toggleable__label-arrow:before {content: \"▾\";}#sk-container-id-2 div.sk-estimator input.sk-toggleable__control:checked~label.sk-toggleable__label {background-color: #d4ebff;}#sk-container-id-2 div.sk-label input.sk-toggleable__control:checked~label.sk-toggleable__label {background-color: #d4ebff;}#sk-container-id-2 input.sk-hidden--visually {border: 0;clip: rect(1px 1px 1px 1px);clip: rect(1px, 1px, 1px, 1px);height: 1px;margin: -1px;overflow: hidden;padding: 0;position: absolute;width: 1px;}#sk-container-id-2 div.sk-estimator {font-family: monospace;background-color: #f0f8ff;border: 1px dotted black;border-radius: 0.25em;box-sizing: border-box;margin-bottom: 0.5em;}#sk-container-id-2 div.sk-estimator:hover {background-color: #d4ebff;}#sk-container-id-2 div.sk-parallel-item::after {content: \"\";width: 100%;border-bottom: 1px solid gray;flex-grow: 1;}#sk-container-id-2 div.sk-label:hover label.sk-toggleable__label {background-color: #d4ebff;}#sk-container-id-2 div.sk-serial::before {content: \"\";position: absolute;border-left: 1px solid gray;box-sizing: border-box;top: 0;bottom: 0;left: 50%;z-index: 0;}#sk-container-id-2 div.sk-serial {display: flex;flex-direction: column;align-items: center;background-color: white;padding-right: 0.2em;padding-left: 0.2em;position: relative;}#sk-container-id-2 div.sk-item {position: relative;z-index: 1;}#sk-container-id-2 div.sk-parallel {display: flex;align-items: stretch;justify-content: center;background-color: white;position: relative;}#sk-container-id-2 div.sk-item::before, #sk-container-id-2 div.sk-parallel-item::before {content: \"\";position: absolute;border-left: 1px solid gray;box-sizing: border-box;top: 0;bottom: 0;left: 50%;z-index: -1;}#sk-container-id-2 div.sk-parallel-item {display: flex;flex-direction: column;z-index: 1;position: relative;background-color: white;}#sk-container-id-2 div.sk-parallel-item:first-child::after {align-self: flex-end;width: 50%;}#sk-container-id-2 div.sk-parallel-item:last-child::after {align-self: flex-start;width: 50%;}#sk-container-id-2 div.sk-parallel-item:only-child::after {width: 0;}#sk-container-id-2 div.sk-dashed-wrapped {border: 1px dashed gray;margin: 0 0.4em 0.5em 0.4em;box-sizing: border-box;padding-bottom: 0.4em;background-color: white;}#sk-container-id-2 div.sk-label label {font-family: monospace;font-weight: bold;display: inline-block;line-height: 1.2em;}#sk-container-id-2 div.sk-label-container {text-align: center;}#sk-container-id-2 div.sk-container {/* jupyter's `normalize.less` sets `[hidden] { display: none; }` but bootstrap.min.css set `[hidden] { display: none !important; }` so we also need the `!important` here to be able to override the default hidden behavior on the sphinx rendered scikit-learn.org. See: https://github.com/scikit-learn/scikit-learn/issues/21755 */display: inline-block !important;position: relative;}#sk-container-id-2 div.sk-text-repr-fallback {display: none;}</style><div id=\"sk-container-id-2\" class=\"sk-top-container\"><div class=\"sk-text-repr-fallback\"><pre>RandomForestClassifier(random_state=42)</pre><b>In a Jupyter environment, please rerun this cell to show the HTML representation or trust the notebook. <br />On GitHub, the HTML representation is unable to render, please try loading this page with nbviewer.org.</b></div><div class=\"sk-container\" hidden><div class=\"sk-item\"><div class=\"sk-estimator sk-toggleable\"><input class=\"sk-toggleable__control sk-hidden--visually\" id=\"sk-estimator-id-2\" type=\"checkbox\" checked><label for=\"sk-estimator-id-2\" class=\"sk-toggleable__label sk-toggleable__label-arrow\">RandomForestClassifier</label><div class=\"sk-toggleable__content\"><pre>RandomForestClassifier(random_state=42)</pre></div></div></div></div></div>"
            ]
          },
          "metadata": {},
          "execution_count": 14
        }
      ]
    },
    {
      "cell_type": "code",
      "source": [
        "# Predicciones y probabilidades para Random Forest\n",
        "random_forest_train_predict = rf_model.predict(X_train_bow)\n",
        "random_forest_test_predict = rf_model.predict(X_test_bow)\n",
        "random_forest_test_predict_proba = rf_model.predict_proba(X_test_bow)[:, 1]"
      ],
      "metadata": {
        "id": "_VqDNI1uATcU"
      },
      "execution_count": 15,
      "outputs": []
    },
    {
      "cell_type": "code",
      "source": [
        "print(\"Random Forest - Train Set\")\n",
        "print(classification_report(y_train, random_forest_train_predict))\n",
        "print(\"Random Forest - Test Set\")\n",
        "print(classification_report(y_test, random_forest_test_predict))"
      ],
      "metadata": {
        "colab": {
          "base_uri": "https://localhost:8080/"
        },
        "id": "B7Vtr5O4AYOT",
        "outputId": "46028b2e-d0e6-4d44-d13c-b13c62771d49"
      },
      "execution_count": 16,
      "outputs": [
        {
          "output_type": "stream",
          "name": "stdout",
          "text": [
            "Random Forest - Train Set\n",
            "              precision    recall  f1-score   support\n",
            "\n",
            "           0       1.00      1.00      1.00       922\n",
            "           1       1.00      1.00      1.00      4326\n",
            "\n",
            "    accuracy                           1.00      5248\n",
            "   macro avg       1.00      1.00      1.00      5248\n",
            "weighted avg       1.00      1.00      1.00      5248\n",
            "\n",
            "Random Forest - Test Set\n",
            "              precision    recall  f1-score   support\n",
            "\n",
            "           0       0.65      0.09      0.16       339\n",
            "           1       0.82      0.99      0.90      1411\n",
            "\n",
            "    accuracy                           0.81      1750\n",
            "   macro avg       0.73      0.54      0.53      1750\n",
            "weighted avg       0.79      0.81      0.75      1750\n",
            "\n"
          ]
        }
      ]
    },
    {
      "cell_type": "markdown",
      "source": [
        "### 1.1 Gráficas Random Forest"
      ],
      "metadata": {
        "id": "lYM0VOZAJFZ8"
      }
    },
    {
      "cell_type": "markdown",
      "source": [
        "Recordando el análisis exploratorio, tenemos más reviews positivos que negativos"
      ],
      "metadata": {
        "id": "qcbqYgwWJUyp"
      }
    },
    {
      "cell_type": "code",
      "source": [
        "import matplotlib.pyplot as plt\n",
        "import seaborn as sns\n",
        "\n",
        "# Visualización de la distribución de sentimientos\n",
        "plt.figure(figsize=(8, 6))\n",
        "sns.countplot(x='sentiment', data=df_preprocessed)\n",
        "plt.title('Distribución de Sentimientos')\n",
        "plt.xlabel('Sentimiento')\n",
        "plt.ylabel('Frecuencia')\n",
        "plt.show()"
      ],
      "metadata": {
        "colab": {
          "base_uri": "https://localhost:8080/",
          "height": 564
        },
        "id": "fm6dUQS7JC7V",
        "outputId": "184ff5ea-9327-4858-f9bd-d5bd9e76cf6f"
      },
      "execution_count": 33,
      "outputs": [
        {
          "output_type": "display_data",
          "data": {
            "text/plain": [
              "<Figure size 800x600 with 1 Axes>"
            ],
            "image/png": "[encoded data removed]"
          },
          "metadata": {}
        }
      ]
    },
    {
      "cell_type": "markdown",
      "source": [],
      "metadata": {
        "id": "ND6EHDt4L0w0"
      }
    },
    {
      "cell_type": "code",
      "source": [
        "# Curva ROC y AUC para Random Forest\n",
        "fpr, tpr, _ = roc_curve(y_test, random_forest_test_predict_proba)\n",
        "roc_auc = auc(fpr, tpr)\n",
        "plt.figure(figsize=(8, 6))\n",
        "plt.plot(fpr, tpr, color='darkorange', lw=2, label='Curva ROC (area = %0.2f)' % roc_auc)\n",
        "plt.plot([0, 1], [0, 1], color='navy', lw=2, linestyle='--')\n",
        "plt.xlim([0.0, 1.0])\n",
        "plt.ylim([0.0, 1.05])\n",
        "plt.xlabel('Tasa de Falsos Positivos')\n",
        "plt.ylabel('Tasa de Verdaderos Positivos')\n",
        "plt.title('Curva ROC - Random Forest')\n",
        "plt.legend(loc=\"lower right\")\n",
        "plt.show()"
      ],
      "metadata": {
        "colab": {
          "base_uri": "https://localhost:8080/",
          "height": 564
        },
        "id": "1fV7XjhsL1D_",
        "outputId": "4e188296-ca3f-4f03-e097-b888fbaa0fa7"
      },
      "execution_count": 36,
      "outputs": [
        {
          "output_type": "display_data",
          "data": {
            "text/plain": [
              "<Figure size 800x600 with 1 Axes>"
            ],
            "image/png": "[encoded data removed]"
          },
          "metadata": {}
        }
      ]
    },
    {
      "cell_type": "markdown",
      "source": [
        "El modelo Random Forest tiene un buen rendimiento global con un AUC de 0.81."
      ],
      "metadata": {
        "id": "uA17jsA8MWjn"
      }
    },
    {
      "cell_type": "code",
      "source": [
        "# Métricas adicionales para el modelo de Random Forest\n",
        "print(\"Métricas adicionales para el modelo de Random Forest:\")\n",
        "accuracy_rf = accuracy_score(y_test, random_forest_test_predict)\n",
        "print(f\"Precisión: {accuracy_rf:.2f}\")\n",
        "classification_report_rf = classification_report(y_test, random_forest_test_predict, output_dict=True)\n",
        "precision_rf = classification_report_rf['weighted avg']['precision']\n",
        "recall_rf = classification_report_rf['weighted avg']['recall']\n",
        "f1_score_rf = classification_report_rf['weighted avg']['f1-score']\n",
        "print(f\"Precisión: {precision_rf:.2f}\")\n",
        "print(f\"Recall: {recall_rf:.2f}\")\n",
        "print(f\"F1-Score: {f1_score_rf:.2f}\")"
      ],
      "metadata": {
        "colab": {
          "base_uri": "https://localhost:8080/"
        },
        "id": "pYUeQsyWL6N4",
        "outputId": "5efafdcb-994a-44ee-ab37-896cb970890e"
      },
      "execution_count": 37,
      "outputs": [
        {
          "output_type": "stream",
          "name": "stdout",
          "text": [
            "Métricas adicionales para el modelo de Random Forest:\n",
            "Precisión: 0.81\n",
            "Precisión: 0.79\n",
            "Recall: 0.81\n",
            "F1-Score: 0.75\n"
          ]
        }
      ]
    },
    {
      "cell_type": "markdown",
      "source": [
        "* El modelo clasifica correctamente el 81% de las instancias del conjunto de prueba.\n",
        "* Una precisión de 0.79 significa que el 79% de las predicciones positivas del modelo son correctas.\n",
        "* Un recall de 0.81 indica que el modelo identifica correctamente el 81% de las instancias positivas.\n",
        "* El F1-Score nos indica la media de la precisión y el recall, proporcionando un balance entre ambos. 0.75 si bien no es un valor malo, abarca mucho campo de mejora."
      ],
      "metadata": {
        "id": "ypqL-hZVMjLd"
      }
    },
    {
      "cell_type": "code",
      "source": [
        "from sklearn.metrics import classification_report, accuracy_score, confusion_matrix, roc_curve, auc\n",
        "\n",
        "# Matriz de confusión para Random Forest\n",
        "conf_matrix_rf = confusion_matrix(y_test, random_forest_test_predict)\n",
        "plt.figure(figsize=(8, 6))\n",
        "sns.heatmap(conf_matrix_rf, annot=True, fmt='d', cmap='Blues')\n",
        "plt.title('Matriz de Confusión - Random Forest')\n",
        "plt.xlabel('Predicción')\n",
        "plt.ylabel('Actual')\n",
        "plt.show()"
      ],
      "metadata": {
        "colab": {
          "base_uri": "https://localhost:8080/",
          "height": 564
        },
        "id": "DCNAW2k4JdpK",
        "outputId": "15414727-f41a-49eb-e707-adde721ec4c1"
      },
      "execution_count": 35,
      "outputs": [
        {
          "output_type": "display_data",
          "data": {
            "text/plain": [
              "<Figure size 800x600 with 2 Axes>"
            ],
            "image/png": "[encoded data removed]"
          },
          "metadata": {}
        }
      ]
    },
    {
      "cell_type": "markdown",
      "source": [
        "**Verdaderos Negativos (TN): **31\n",
        "**Falsos Positivos (FP):** 308\n",
        "**Falsos Negativos (FN):** 17\n",
        "**Verdaderos Positivos (TP):** 1394\n",
        "\n",
        "**Tenemos una Alta Tasa de Falsos Positivos (FP):**\n",
        "\n",
        "El modelo predijo que 308 instancias pertenecían a la clase 1 cuando en realidad pertenecían a la clase 0. Esto indica que el modelo tiene dificultades para identificar correctamente las instancias de la clase negativa (0)."
      ],
      "metadata": {
        "id": "Pf_UYnNTLamp"
      }
    },
    {
      "cell_type": "markdown",
      "source": [
        "**Conclusión**\n",
        "\n",
        "El modelo Random Forest está sobreajustando a la clase mayoritaria (1), resultando en una alta tasa de falsos positivos para la clase minoritaria (0). Esto significa que, aunque el modelo es muy preciso en la predicción de la clase mayoritaria, tiene problemas significativos al clasificar correctamente las instancias de la clase minoritaria.\n",
        "\n"
      ],
      "metadata": {
        "id": "uglCgD4iLsr0"
      }
    },
    {
      "cell_type": "markdown",
      "source": [
        "### 2. Modelo de Deep Learning usando RNN y LSTM"
      ],
      "metadata": {
        "id": "IfiXIj0DBBvX"
      }
    },
    {
      "cell_type": "code",
      "source": [
        "# Tokenización y Padding para RNN y LSTM\n",
        "tokenizer = Tokenizer(num_words=5000)\n",
        "tokenizer.fit_on_texts(X_train)\n",
        "\n",
        "X_train_seq = tokenizer.texts_to_sequences(X_train)\n",
        "X_test_seq = tokenizer.texts_to_sequences(X_test)"
      ],
      "metadata": {
        "id": "ydQv1afvBcUf"
      },
      "execution_count": 18,
      "outputs": []
    },
    {
      "cell_type": "code",
      "source": [
        "max_sequence_length = 100\n",
        "X_train_pad = pad_sequences(X_train_seq, maxlen=max_sequence_length)\n",
        "X_test_pad = pad_sequences(X_test_seq, maxlen=max_sequence_length)"
      ],
      "metadata": {
        "id": "sViMmsueCCUX"
      },
      "execution_count": 21,
      "outputs": []
    },
    {
      "cell_type": "code",
      "source": [
        "embedding_dim = 100\n",
        "model = Sequential()\n",
        "model.add(Embedding(input_dim=5000, output_dim=embedding_dim, input_length=max_sequence_length))\n",
        "model.add(SpatialDropout1D(0.2))\n",
        "model.add(LSTM(100, dropout=0.2, recurrent_dropout=0.2))\n",
        "model.add(Dense(1, activation='sigmoid'))"
      ],
      "metadata": {
        "id": "0flos_JAA-67"
      },
      "execution_count": 22,
      "outputs": []
    },
    {
      "cell_type": "code",
      "source": [
        "# Compilar el modelo de deep learning\n",
        "model.compile(loss='binary_crossentropy', optimizer=Adam(learning_rate=0.001), metrics=['accuracy'])"
      ],
      "metadata": {
        "id": "TZTbUeCxCJAw"
      },
      "execution_count": 24,
      "outputs": []
    },
    {
      "cell_type": "code",
      "source": [
        "# Entrenar el modelo\n",
        "model.fit(X_train_pad, y_train, epochs=5, batch_size=64, validation_data=(X_test_pad, y_test), verbose=2)"
      ],
      "metadata": {
        "colab": {
          "base_uri": "https://localhost:8080/"
        },
        "id": "rcRCZu37COGY",
        "outputId": "dff3edbe-93cd-48fe-9f93-7a429af67243"
      },
      "execution_count": 25,
      "outputs": [
        {
          "output_type": "stream",
          "name": "stdout",
          "text": [
            "Epoch 1/5\n",
            "82/82 - 32s - loss: 0.4703 - accuracy: 0.8215 - val_loss: 0.4111 - val_accuracy: 0.8126 - 32s/epoch - 393ms/step\n",
            "Epoch 2/5\n",
            "82/82 - 27s - loss: 0.3131 - accuracy: 0.8660 - val_loss: 0.4019 - val_accuracy: 0.8343 - 27s/epoch - 333ms/step\n",
            "Epoch 3/5\n",
            "82/82 - 31s - loss: 0.2155 - accuracy: 0.9127 - val_loss: 0.4301 - val_accuracy: 0.8309 - 31s/epoch - 373ms/step\n",
            "Epoch 4/5\n",
            "82/82 - 28s - loss: 0.1575 - accuracy: 0.9404 - val_loss: 0.4833 - val_accuracy: 0.8331 - 28s/epoch - 339ms/step\n",
            "Epoch 5/5\n",
            "82/82 - 26s - loss: 0.1092 - accuracy: 0.9630 - val_loss: 0.5405 - val_accuracy: 0.8149 - 26s/epoch - 316ms/step\n"
          ]
        },
        {
          "output_type": "execute_result",
          "data": {
            "text/plain": [
              "<keras.src.callbacks.History at 0x7872c81852d0>"
            ]
          },
          "metadata": {},
          "execution_count": 25
        }
      ]
    },
    {
      "cell_type": "code",
      "source": [
        "# Predicciones y probabilidades para el modelo de Deep Learning\n",
        "deep_train_predict = (model.predict(X_train_pad) > 0.5).astype(\"int32\")\n",
        "deep_test_predict = (model.predict(X_test_pad) > 0.5).astype(\"int32\")\n",
        "deep_test_predict_proba = model.predict(X_test_pad)"
      ],
      "metadata": {
        "colab": {
          "base_uri": "https://localhost:8080/"
        },
        "id": "r2IiGm4yHPbE",
        "outputId": "f91c113e-84de-4258-915a-e0796c305249"
      },
      "execution_count": 26,
      "outputs": [
        {
          "output_type": "stream",
          "name": "stdout",
          "text": [
            "164/164 [==============================] - 10s 55ms/step\n",
            "55/55 [==============================] - 7s 116ms/step\n",
            "55/55 [==============================] - 5s 83ms/step\n"
          ]
        }
      ]
    },
    {
      "cell_type": "code",
      "source": [
        "# Métricas generales para el modelo de Deep Learning\n",
        "print(\"Deep Learning - Train Set\")\n",
        "print(classification_report(y_train, deep_train_predict))\n",
        "print(\"Deep Learning - Test Set\")\n",
        "print(classification_report(y_test, deep_test_predict))"
      ],
      "metadata": {
        "colab": {
          "base_uri": "https://localhost:8080/"
        },
        "id": "6P47riEcHVcO",
        "outputId": "791b5a29-0cb0-408f-f942-044c22451505"
      },
      "execution_count": 27,
      "outputs": [
        {
          "output_type": "stream",
          "name": "stdout",
          "text": [
            "Deep Learning - Train Set\n",
            "              precision    recall  f1-score   support\n",
            "\n",
            "           0       0.96      0.96      0.96       922\n",
            "           1       0.99      0.99      0.99      4326\n",
            "\n",
            "    accuracy                           0.99      5248\n",
            "   macro avg       0.97      0.97      0.97      5248\n",
            "weighted avg       0.99      0.99      0.99      5248\n",
            "\n",
            "Deep Learning - Test Set\n",
            "              precision    recall  f1-score   support\n",
            "\n",
            "           0       0.53      0.41      0.46       339\n",
            "           1       0.87      0.91      0.89      1411\n",
            "\n",
            "    accuracy                           0.81      1750\n",
            "   macro avg       0.70      0.66      0.67      1750\n",
            "weighted avg       0.80      0.81      0.81      1750\n",
            "\n"
          ]
        }
      ]
    },
    {
      "cell_type": "markdown",
      "source": [
        "**Precisión:** 0.81\n",
        "\n",
        "**Recall:** 0.91 para la clase positiva y 0.41 para la clase negativa, lo que significa un **mejor manejo de la clase negativa** en comparación con Random Forest.\n",
        "\n",
        "**F1-Score:** 0.89 para la clase positiva y 0.46 para la clase negativa, reflejando un mejor balance general en comparación con Random Forest."
      ],
      "metadata": {
        "id": "rpoaCL58NnEu"
      }
    },
    {
      "cell_type": "code",
      "source": [
        "# Guardar los resultados en un DataFrame\n",
        "df_preds = pd.DataFrame({\n",
        "    'y_actual': y_test,\n",
        "    'y_pred_test_random_forest': random_forest_test_predict,\n",
        "    'y_pred_proba_test_random_forest': random_forest_test_predict_proba,\n",
        "    'y_pred_test_deep': deep_test_predict.flatten(),\n",
        "    'y_pred_proba_test_deep': deep_test_predict_proba.flatten()\n",
        "})\n",
        "\n",
        "df_preds.to_csv('preds.csv', index=False)"
      ],
      "metadata": {
        "id": "oo5MbEBeHcAR"
      },
      "execution_count": 28,
      "outputs": []
    },
    {
      "cell_type": "code",
      "source": [
        "df_preds.head(10)"
      ],
      "metadata": {
        "colab": {
          "base_uri": "https://localhost:8080/",
          "height": 363
        },
        "id": "kSj-0ybLHhjq",
        "outputId": "eeeee306-e3a8-4d80-b7d3-bb2ea28e4ff3"
      },
      "execution_count": 30,
      "outputs": [
        {
          "output_type": "execute_result",
          "data": {
            "text/plain": [
              "      y_actual  y_pred_test_random_forest  y_pred_proba_test_random_forest  \\\n",
              "3862         1                          1                             0.95   \n",
              "2942         1                          1                             0.78   \n",
              "4352         1                          1                             0.94   \n",
              "263          1                          1                             0.97   \n",
              "4348         1                          1                             0.99   \n",
              "3422         1                          1                             0.68   \n",
              "2473         1                          1                             0.83   \n",
              "6729         1                          1                             0.71   \n",
              "6892         1                          1                             0.89   \n",
              "4629         1                          1                             0.97   \n",
              "\n",
              "      y_pred_test_deep  y_pred_proba_test_deep  \n",
              "3862                 1                0.999654  \n",
              "2942                 1                0.999735  \n",
              "4352                 1                0.995372  \n",
              "263                  1                0.778933  \n",
              "4348                 1                0.998686  \n",
              "3422                 0                0.044733  \n",
              "2473                 1                0.621873  \n",
              "6729                 1                0.983054  \n",
              "6892                 1                0.988771  \n",
              "4629                 0                0.423065  "
            ],
            "text/html": [
              "\n",
              "  <div id=\"df-a7d4e731-ab83-4cd5-8bcc-20a12965eaad\" class=\"colab-df-container\">\n",
              "    <div>\n",
              "<style scoped>\n",
              "    .dataframe tbody tr th:only-of-type {\n",
              "        vertical-align: middle;\n",
              "    }\n",
              "\n",
              "    .dataframe tbody tr th {\n",
              "        vertical-align: top;\n",
              "    }\n",
              "\n",
              "    .dataframe thead th {\n",
              "        text-align: right;\n",
              "    }\n",
              "</style>\n",
              "<table border=\"1\" class=\"dataframe\">\n",
              "  <thead>\n",
              "    <tr style=\"text-align: right;\">\n",
              "      <th></th>\n",
              "      <th>y_actual</th>\n",
              "      <th>y_pred_test_random_forest</th>\n",
              "      <th>y_pred_proba_test_random_forest</th>\n",
              "      <th>y_pred_test_deep</th>\n",
              "      <th>y_pred_proba_test_deep</th>\n",
              "    </tr>\n",
              "  </thead>\n",
              "  <tbody>\n",
              "    <tr>\n",
              "      <th>3862</th>\n",
              "      <td>1</td>\n",
              "      <td>1</td>\n",
              "      <td>0.95</td>\n",
              "      <td>1</td>\n",
              "      <td>0.999654</td>\n",
              "    </tr>\n",
              "    <tr>\n",
              "      <th>2942</th>\n",
              "      <td>1</td>\n",
              "      <td>1</td>\n",
              "      <td>0.78</td>\n",
              "      <td>1</td>\n",
              "      <td>0.999735</td>\n",
              "    </tr>\n",
              "    <tr>\n",
              "      <th>4352</th>\n",
              "      <td>1</td>\n",
              "      <td>1</td>\n",
              "      <td>0.94</td>\n",
              "      <td>1</td>\n",
              "      <td>0.995372</td>\n",
              "    </tr>\n",
              "    <tr>\n",
              "      <th>263</th>\n",
              "      <td>1</td>\n",
              "      <td>1</td>\n",
              "      <td>0.97</td>\n",
              "      <td>1</td>\n",
              "      <td>0.778933</td>\n",
              "    </tr>\n",
              "    <tr>\n",
              "      <th>4348</th>\n",
              "      <td>1</td>\n",
              "      <td>1</td>\n",
              "      <td>0.99</td>\n",
              "      <td>1</td>\n",
              "      <td>0.998686</td>\n",
              "    </tr>\n",
              "    <tr>\n",
              "      <th>3422</th>\n",
              "      <td>1</td>\n",
              "      <td>1</td>\n",
              "      <td>0.68</td>\n",
              "      <td>0</td>\n",
              "      <td>0.044733</td>\n",
              "    </tr>\n",
              "    <tr>\n",
              "      <th>2473</th>\n",
              "      <td>1</td>\n",
              "      <td>1</td>\n",
              "      <td>0.83</td>\n",
              "      <td>1</td>\n",
              "      <td>0.621873</td>\n",
              "    </tr>\n",
              "    <tr>\n",
              "      <th>6729</th>\n",
              "      <td>1</td>\n",
              "      <td>1</td>\n",
              "      <td>0.71</td>\n",
              "      <td>1</td>\n",
              "      <td>0.983054</td>\n",
              "    </tr>\n",
              "    <tr>\n",
              "      <th>6892</th>\n",
              "      <td>1</td>\n",
              "      <td>1</td>\n",
              "      <td>0.89</td>\n",
              "      <td>1</td>\n",
              "      <td>0.988771</td>\n",
              "    </tr>\n",
              "    <tr>\n",
              "      <th>4629</th>\n",
              "      <td>1</td>\n",
              "      <td>1</td>\n",
              "      <td>0.97</td>\n",
              "      <td>0</td>\n",
              "      <td>0.423065</td>\n",
              "    </tr>\n",
              "  </tbody>\n",
              "</table>\n",
              "</div>\n",
              "    <div class=\"colab-df-buttons\">\n",
              "\n",
              "  <div class=\"colab-df-container\">\n",
              "    <button class=\"colab-df-convert\" onclick=\"convertToInteractive('df-a7d4e731-ab83-4cd5-8bcc-20a12965eaad')\"\n",
              "            title=\"Convert this dataframe to an interactive table.\"\n",
              "            style=\"display:none;\">\n",
              "\n",
              "  <svg xmlns=\"http://www.w3.org/2000/svg\" height=\"24px\" viewBox=\"0 -960 960 960\">\n",
              "    <path d=\"M120-120v-720h720v720H120Zm60-500h600v-160H180v160Zm220 220h160v-160H400v160Zm0 220h160v-160H400v160ZM180-400h160v-160H180v160Zm440 0h160v-160H620v160ZM180-180h160v-160H180v160Zm440 0h160v-160H620v160Z\"/>\n",
              "  </svg>\n",
              "    </button>\n",
              "\n",
              "  <style>\n",
              "    .colab-df-container {\n",
              "      display:flex;\n",
              "      gap: 12px;\n",
              "    }\n",
              "\n",
              "    .colab-df-convert {\n",
              "      background-color: #E8F0FE;\n",
              "      border: none;\n",
              "      border-radius: 50%;\n",
              "      cursor: pointer;\n",
              "      display: none;\n",
              "      fill: #1967D2;\n",
              "      height: 32px;\n",
              "      padding: 0 0 0 0;\n",
              "      width: 32px;\n",
              "    }\n",
              "\n",
              "    .colab-df-convert:hover {\n",
              "      background-color: #E2EBFA;\n",
              "      box-shadow: 0px 1px 2px rgba(60, 64, 67, 0.3), 0px 1px 3px 1px rgba(60, 64, 67, 0.15);\n",
              "      fill: #174EA6;\n",
              "    }\n",
              "\n",
              "    .colab-df-buttons div {\n",
              "      margin-bottom: 4px;\n",
              "    }\n",
              "\n",
              "    [theme=dark] .colab-df-convert {\n",
              "      background-color: #3B4455;\n",
              "      fill: #D2E3FC;\n",
              "    }\n",
              "\n",
              "    [theme=dark] .colab-df-convert:hover {\n",
              "      background-color: #434B5C;\n",
              "      box-shadow: 0px 1px 3px 1px rgba(0, 0, 0, 0.15);\n",
              "      filter: drop-shadow(0px 1px 2px rgba(0, 0, 0, 0.3));\n",
              "      fill: #FFFFFF;\n",
              "    }\n",
              "  </style>\n",
              "\n",
              "    <script>\n",
              "      const buttonEl =\n",
              "        document.querySelector('#df-a7d4e731-ab83-4cd5-8bcc-20a12965eaad button.colab-df-convert');\n",
              "      buttonEl.style.display =\n",
              "        google.colab.kernel.accessAllowed ? 'block' : 'none';\n",
              "\n",
              "      async function convertToInteractive(key) {\n",
              "        const element = document.querySelector('#df-a7d4e731-ab83-4cd5-8bcc-20a12965eaad');\n",
              "        const dataTable =\n",
              "          await google.colab.kernel.invokeFunction('convertToInteractive',\n",
              "                                                    [key], {});\n",
              "        if (!dataTable) return;\n",
              "\n",
              "        const docLinkHtml = 'Like what you see? Visit the ' +\n",
              "          '<a target=\"_blank\" href=https://colab.research.google.com/notebooks/data_table.ipynb>data table notebook</a>'\n",
              "          + ' to learn more about interactive tables.';\n",
              "        element.innerHTML = '';\n",
              "        dataTable['output_type'] = 'display_data';\n",
              "        await google.colab.output.renderOutput(dataTable, element);\n",
              "        const docLink = document.createElement('div');\n",
              "        docLink.innerHTML = docLinkHtml;\n",
              "        element.appendChild(docLink);\n",
              "      }\n",
              "    </script>\n",
              "  </div>\n",
              "\n",
              "\n",
              "<div id=\"df-61269e25-82f1-4bf5-aef3-c9106d9f9816\">\n",
              "  <button class=\"colab-df-quickchart\" onclick=\"quickchart('df-61269e25-82f1-4bf5-aef3-c9106d9f9816')\"\n",
              "            title=\"Suggest charts\"\n",
              "            style=\"display:none;\">\n",
              "\n",
              "<svg xmlns=\"http://www.w3.org/2000/svg\" height=\"24px\"viewBox=\"0 0 24 24\"\n",
              "     width=\"24px\">\n",
              "    <g>\n",
              "        <path d=\"M19 3H5c-1.1 0-2 .9-2 2v14c0 1.1.9 2 2 2h14c1.1 0 2-.9 2-2V5c0-1.1-.9-2-2-2zM9 17H7v-7h2v7zm4 0h-2V7h2v10zm4 0h-2v-4h2v4z\"/>\n",
              "    </g>\n",
              "</svg>\n",
              "  </button>\n",
              "\n",
              "<style>\n",
              "  .colab-df-quickchart {\n",
              "      --bg-color: #E8F0FE;\n",
              "      --fill-color: #1967D2;\n",
              "      --hover-bg-color: #E2EBFA;\n",
              "      --hover-fill-color: #174EA6;\n",
              "      --disabled-fill-color: #AAA;\n",
              "      --disabled-bg-color: #DDD;\n",
              "  }\n",
              "\n",
              "  [theme=dark] .colab-df-quickchart {\n",
              "      --bg-color: #3B4455;\n",
              "      --fill-color: #D2E3FC;\n",
              "      --hover-bg-color: #434B5C;\n",
              "      --hover-fill-color: #FFFFFF;\n",
              "      --disabled-bg-color: #3B4455;\n",
              "      --disabled-fill-color: #666;\n",
              "  }\n",
              "\n",
              "  .colab-df-quickchart {\n",
              "    background-color: var(--bg-color);\n",
              "    border: none;\n",
              "    border-radius: 50%;\n",
              "    cursor: pointer;\n",
              "    display: none;\n",
              "    fill: var(--fill-color);\n",
              "    height: 32px;\n",
              "    padding: 0;\n",
              "    width: 32px;\n",
              "  }\n",
              "\n",
              "  .colab-df-quickchart:hover {\n",
              "    background-color: var(--hover-bg-color);\n",
              "    box-shadow: 0 1px 2px rgba(60, 64, 67, 0.3), 0 1px 3px 1px rgba(60, 64, 67, 0.15);\n",
              "    fill: var(--button-hover-fill-color);\n",
              "  }\n",
              "\n",
              "  .colab-df-quickchart-complete:disabled,\n",
              "  .colab-df-quickchart-complete:disabled:hover {\n",
              "    background-color: var(--disabled-bg-color);\n",
              "    fill: var(--disabled-fill-color);\n",
              "    box-shadow: none;\n",
              "  }\n",
              "\n",
              "  .colab-df-spinner {\n",
              "    border: 2px solid var(--fill-color);\n",
              "    border-color: transparent;\n",
              "    border-bottom-color: var(--fill-color);\n",
              "    animation:\n",
              "      spin 1s steps(1) infinite;\n",
              "  }\n",
              "\n",
              "  @keyframes spin {\n",
              "    0% {\n",
              "      border-color: transparent;\n",
              "      border-bottom-color: var(--fill-color);\n",
              "      border-left-color: var(--fill-color);\n",
              "    }\n",
              "    20% {\n",
              "      border-color: transparent;\n",
              "      border-left-color: var(--fill-color);\n",
              "      border-top-color: var(--fill-color);\n",
              "    }\n",
              "    30% {\n",
              "      border-color: transparent;\n",
              "      border-left-color: var(--fill-color);\n",
              "      border-top-color: var(--fill-color);\n",
              "      border-right-color: var(--fill-color);\n",
              "    }\n",
              "    40% {\n",
              "      border-color: transparent;\n",
              "      border-right-color: var(--fill-color);\n",
              "      border-top-color: var(--fill-color);\n",
              "    }\n",
              "    60% {\n",
              "      border-color: transparent;\n",
              "      border-right-color: var(--fill-color);\n",
              "    }\n",
              "    80% {\n",
              "      border-color: transparent;\n",
              "      border-right-color: var(--fill-color);\n",
              "      border-bottom-color: var(--fill-color);\n",
              "    }\n",
              "    90% {\n",
              "      border-color: transparent;\n",
              "      border-bottom-color: var(--fill-color);\n",
              "    }\n",
              "  }\n",
              "</style>\n",
              "\n",
              "  <script>\n",
              "    async function quickchart(key) {\n",
              "      const quickchartButtonEl =\n",
              "        document.querySelector('#' + key + ' button');\n",
              "      quickchartButtonEl.disabled = true;  // To prevent multiple clicks.\n",
              "      quickchartButtonEl.classList.add('colab-df-spinner');\n",
              "      try {\n",
              "        const charts = await google.colab.kernel.invokeFunction(\n",
              "            'suggestCharts', [key], {});\n",
              "      } catch (error) {\n",
              "        console.error('Error during call to suggestCharts:', error);\n",
              "      }\n",
              "      quickchartButtonEl.classList.remove('colab-df-spinner');\n",
              "      quickchartButtonEl.classList.add('colab-df-quickchart-complete');\n",
              "    }\n",
              "    (() => {\n",
              "      let quickchartButtonEl =\n",
              "        document.querySelector('#df-61269e25-82f1-4bf5-aef3-c9106d9f9816 button');\n",
              "      quickchartButtonEl.style.display =\n",
              "        google.colab.kernel.accessAllowed ? 'block' : 'none';\n",
              "    })();\n",
              "  </script>\n",
              "</div>\n",
              "\n",
              "    </div>\n",
              "  </div>\n"
            ],
            "application/vnd.google.colaboratory.intrinsic+json": {
              "type": "dataframe",
              "variable_name": "df_preds",
              "summary": "{\n  \"name\": \"df_preds\",\n  \"rows\": 1750,\n  \"fields\": [\n    {\n      \"column\": \"y_actual\",\n      \"properties\": {\n        \"dtype\": \"number\",\n        \"std\": 0,\n        \"min\": 0,\n        \"max\": 1,\n        \"num_unique_values\": 2,\n        \"samples\": [\n          0,\n          1\n        ],\n        \"semantic_type\": \"\",\n        \"description\": \"\"\n      }\n    },\n    {\n      \"column\": \"y_pred_test_random_forest\",\n      \"properties\": {\n        \"dtype\": \"number\",\n        \"std\": 0,\n        \"min\": 0,\n        \"max\": 1,\n        \"num_unique_values\": 2,\n        \"samples\": [\n          0,\n          1\n        ],\n        \"semantic_type\": \"\",\n        \"description\": \"\"\n      }\n    },\n    {\n      \"column\": \"y_pred_proba_test_random_forest\",\n      \"properties\": {\n        \"dtype\": \"number\",\n        \"std\": 0.13770650480990618,\n        \"min\": 0.28,\n        \"max\": 1.0,\n        \"num_unique_values\": 65,\n        \"samples\": [\n          0.67,\n          0.28\n        ],\n        \"semantic_type\": \"\",\n        \"description\": \"\"\n      }\n    },\n    {\n      \"column\": \"y_pred_test_deep\",\n      \"properties\": {\n        \"dtype\": \"int32\",\n        \"num_unique_values\": 2,\n        \"samples\": [\n          0,\n          1\n        ],\n        \"semantic_type\": \"\",\n        \"description\": \"\"\n      }\n    },\n    {\n      \"column\": \"y_pred_proba_test_deep\",\n      \"properties\": {\n        \"dtype\": \"float32\",\n        \"num_unique_values\": 1746,\n        \"samples\": [\n          0.08460816740989685,\n          0.05059836432337761\n        ],\n        \"semantic_type\": \"\",\n        \"description\": \"\"\n      }\n    }\n  ]\n}"
            }
          },
          "metadata": {},
          "execution_count": 30
        }
      ]
    }
  ]
}